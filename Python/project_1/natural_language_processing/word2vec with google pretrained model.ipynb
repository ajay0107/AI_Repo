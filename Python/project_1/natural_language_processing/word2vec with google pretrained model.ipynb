{
 "cells": [
  {
   "cell_type": "code",
   "execution_count": 2,
   "metadata": {},
   "outputs": [],
   "source": [
    "from gensim.models import Word2Vec, KeyedVectors\n",
    "import pandas as pd\n",
    "import nltk"
   ]
  },
  {
   "cell_type": "code",
   "execution_count": 3,
   "metadata": {},
   "outputs": [],
   "source": [
    "modelgoogle = KeyedVectors.load_word2vec_format(\"C:/Users/Galytix/Downloads/GoogleNews-vectors-negative300.bin.gz\",binary=True,limit=None)"
   ]
  },
  {
   "cell_type": "code",
   "execution_count": 9,
   "metadata": {},
   "outputs": [
    {
     "data": {
      "text/plain": [
       "[('livid', 0.7088412046432495),\n",
       " ('angry', 0.6702253222465515),\n",
       " ('incensed', 0.6562107801437378),\n",
       " ('fuming', 0.65410315990448),\n",
       " ('enraged', 0.6220400333404541),\n",
       " ('infuriated', 0.6144860982894897),\n",
       " ('outraged', 0.6030832529067993),\n",
       " ('irate', 0.569240927696228),\n",
       " ('seething', 0.5692070722579956),\n",
       " ('disgusted', 0.5561037659645081)]"
      ]
     },
     "execution_count": 9,
     "metadata": {},
     "output_type": "execute_result"
    }
   ],
   "source": [
    "modelgoogle.most_similar(\"furious\")"
   ]
  },
  {
   "cell_type": "code",
   "execution_count": null,
   "metadata": {},
   "outputs": [],
   "source": []
  }
 ],
 "metadata": {
  "kernelspec": {
   "display_name": "Python 3",
   "language": "python",
   "name": "python3"
  },
  "language_info": {
   "codemirror_mode": {
    "name": "ipython",
    "version": 3
   },
   "file_extension": ".py",
   "mimetype": "text/x-python",
   "name": "python",
   "nbconvert_exporter": "python",
   "pygments_lexer": "ipython3",
   "version": "3.7.5"
  }
 },
 "nbformat": 4,
 "nbformat_minor": 2
}
