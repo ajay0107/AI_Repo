{
 "cells": [
  {
   "cell_type": "code",
   "execution_count": 6,
   "metadata": {},
   "outputs": [
    {
     "name": "stdout",
     "output_type": "stream",
     "text": [
      "C:\\Users\\Galytix\\Downloads\\data_r\\AI_Repo\\Python\\project_1\\time_series_analysis\n",
      "env1\n"
     ]
    }
   ],
   "source": [
    "import os\n",
    "print(os.getcwd())\n",
    "# changing the working directory\n",
    "# os.chdir(\"C:/Users/Ajay/Music/AI_Repo/Python/project_1/time_series_analysis\")\n",
    "print(os.environ['CONDA_DEFAULT_ENV'])\n",
    "import matplotlib.pylab\n",
    "import pandas as pd\n",
    "import numpy as np"
   ]
  },
  {
   "cell_type": "code",
   "execution_count": 7,
   "metadata": {},
   "outputs": [
    {
     "data": {
      "text/html": [
       "<div>\n",
       "<style scoped>\n",
       "    .dataframe tbody tr th:only-of-type {\n",
       "        vertical-align: middle;\n",
       "    }\n",
       "\n",
       "    .dataframe tbody tr th {\n",
       "        vertical-align: top;\n",
       "    }\n",
       "\n",
       "    .dataframe thead th {\n",
       "        text-align: right;\n",
       "    }\n",
       "</style>\n",
       "<table border=\"1\" class=\"dataframe\">\n",
       "  <thead>\n",
       "    <tr style=\"text-align: right;\">\n",
       "      <th></th>\n",
       "      <th>phone</th>\n",
       "      <th>age</th>\n",
       "    </tr>\n",
       "  </thead>\n",
       "  <tbody>\n",
       "    <tr>\n",
       "      <th>Melanie</th>\n",
       "      <td>555-1212</td>\n",
       "      <td>17</td>\n",
       "    </tr>\n",
       "    <tr>\n",
       "      <th>Bob</th>\n",
       "      <td>555-1234</td>\n",
       "      <td>17</td>\n",
       "    </tr>\n",
       "    <tr>\n",
       "      <th>Vidhya</th>\n",
       "      <td>555-1111</td>\n",
       "      <td>18</td>\n",
       "    </tr>\n",
       "    <tr>\n",
       "      <th>Ming</th>\n",
       "      <td>555-2222</td>\n",
       "      <td>18</td>\n",
       "    </tr>\n",
       "  </tbody>\n",
       "</table>\n",
       "</div>"
      ],
      "text/plain": [
       "            phone  age\n",
       "Melanie  555-1212   17\n",
       "Bob      555-1234   17\n",
       "Vidhya   555-1111   18\n",
       "Ming     555-2222   18"
      ]
     },
     "execution_count": 7,
     "metadata": {},
     "output_type": "execute_result"
    }
   ],
   "source": [
    "# create dataframe\n",
    "students = pd.DataFrame({\"phone\":['555-1212', '555-1234', '555-1111', '555-2222'],\"age\":[17, 17, 18, 18]}, index = ['Melanie', 'Bob', 'Vidhya', 'Ming'])\n",
    "students"
   ]
  },
  {
   "cell_type": "code",
   "execution_count": 8,
   "metadata": {},
   "outputs": [
    {
     "data": {
      "text/plain": [
       "Index(['Melanie', 'Bob', 'Vidhya', 'Ming'], dtype='object')"
      ]
     },
     "execution_count": 8,
     "metadata": {},
     "output_type": "execute_result"
    }
   ],
   "source": [
    "students.index"
   ]
  },
  {
   "cell_type": "code",
   "execution_count": 9,
   "metadata": {},
   "outputs": [
    {
     "data": {
      "text/html": [
       "<div>\n",
       "<style scoped>\n",
       "    .dataframe tbody tr th:only-of-type {\n",
       "        vertical-align: middle;\n",
       "    }\n",
       "\n",
       "    .dataframe tbody tr th {\n",
       "        vertical-align: top;\n",
       "    }\n",
       "\n",
       "    .dataframe thead th {\n",
       "        text-align: right;\n",
       "    }\n",
       "</style>\n",
       "<table border=\"1\" class=\"dataframe\">\n",
       "  <thead>\n",
       "    <tr style=\"text-align: right;\">\n",
       "      <th></th>\n",
       "      <th>A</th>\n",
       "      <th>B</th>\n",
       "      <th>C</th>\n",
       "      <th>D</th>\n",
       "    </tr>\n",
       "  </thead>\n",
       "  <tbody>\n",
       "    <tr>\n",
       "      <th>Jenny</th>\n",
       "      <td>0.840638</td>\n",
       "      <td>0.367276</td>\n",
       "      <td>0.812664</td>\n",
       "      <td>0.801781</td>\n",
       "    </tr>\n",
       "    <tr>\n",
       "      <th>Frank</th>\n",
       "      <td>0.032182</td>\n",
       "      <td>0.222487</td>\n",
       "      <td>0.600893</td>\n",
       "      <td>0.343204</td>\n",
       "    </tr>\n",
       "    <tr>\n",
       "      <th>Wenfei</th>\n",
       "      <td>0.415851</td>\n",
       "      <td>0.152346</td>\n",
       "      <td>0.839193</td>\n",
       "      <td>0.599934</td>\n",
       "    </tr>\n",
       "    <tr>\n",
       "      <th>Arun</th>\n",
       "      <td>0.547252</td>\n",
       "      <td>0.914222</td>\n",
       "      <td>0.968048</td>\n",
       "      <td>0.435838</td>\n",
       "    </tr>\n",
       "    <tr>\n",
       "      <th>Mary</th>\n",
       "      <td>0.038901</td>\n",
       "      <td>0.082562</td>\n",
       "      <td>0.136429</td>\n",
       "      <td>0.584545</td>\n",
       "    </tr>\n",
       "    <tr>\n",
       "      <th>Ivan</th>\n",
       "      <td>0.890871</td>\n",
       "      <td>0.193467</td>\n",
       "      <td>0.248440</td>\n",
       "      <td>0.332954</td>\n",
       "    </tr>\n",
       "  </tbody>\n",
       "</table>\n",
       "</div>"
      ],
      "text/plain": [
       "               A         B         C         D\n",
       "Jenny   0.840638  0.367276  0.812664  0.801781\n",
       "Frank   0.032182  0.222487  0.600893  0.343204\n",
       "Wenfei  0.415851  0.152346  0.839193  0.599934\n",
       "Arun    0.547252  0.914222  0.968048  0.435838\n",
       "Mary    0.038901  0.082562  0.136429  0.584545\n",
       "Ivan    0.890871  0.193467  0.248440  0.332954"
      ]
     },
     "execution_count": 9,
     "metadata": {},
     "output_type": "execute_result"
    }
   ],
   "source": [
    "# create dataframe from numpy array\n",
    "df = pd.DataFrame(np.random.rand(6,4), index=['Jenny', 'Frank', 'Wenfei', 'Arun', 'Mary', 'Ivan'],columns=list(\"ABCD\"))\n",
    "df"
   ]
  },
  {
   "cell_type": "code",
   "execution_count": 10,
   "metadata": {},
   "outputs": [
    {
     "data": {
      "text/plain": [
       "a    1.0\n",
       "b    2.0\n",
       "c    3.0\n",
       "d    4.0\n",
       "e    NaN\n",
       "f    7.0\n",
       "g    8.0\n",
       "dtype: float64"
      ]
     },
     "execution_count": 10,
     "metadata": {},
     "output_type": "execute_result"
    }
   ],
   "source": [
    "# pd.series have all functionality of dataframe considering it as 1D dataframe\n",
    "a= pd.Series([1,2,3,4,np.nan,7,8])\n",
    "a.index = ['a', 'b', 'c', 'd', 'e', 'f',\"g\"]\n",
    "a"
   ]
  },
  {
   "cell_type": "code",
   "execution_count": 11,
   "metadata": {},
   "outputs": [
    {
     "data": {
      "text/plain": [
       "a    False\n",
       "b    False\n",
       "c    False\n",
       "d    False\n",
       "e     True\n",
       "f    False\n",
       "g    False\n",
       "dtype: bool"
      ]
     },
     "execution_count": 11,
     "metadata": {},
     "output_type": "execute_result"
    }
   ],
   "source": [
    "a.isnull()"
   ]
  },
  {
   "cell_type": "code",
   "execution_count": 12,
   "metadata": {},
   "outputs": [
    {
     "data": {
      "text/plain": [
       "<matplotlib.axes._subplots.AxesSubplot at 0x2631682908>"
      ]
     },
     "execution_count": 12,
     "metadata": {},
     "output_type": "execute_result"
    },
    {
     "data": {
      "image/png": "[encoded data removed]",
      "text/plain": [
       "<Figure size 432x288 with 1 Axes>"
      ]
     },
     "metadata": {
      "needs_background": "light"
     },
     "output_type": "display_data"
    }
   ],
   "source": [
    "# plotting 1D dataframe\n",
    "a.plot()"
   ]
  },
  {
   "cell_type": "code",
   "execution_count": 13,
   "metadata": {},
   "outputs": [
    {
     "data": {
      "text/plain": [
       "<matplotlib.axes._subplots.AxesSubplot at 0x263120d148>"
      ]
     },
     "execution_count": 13,
     "metadata": {},
     "output_type": "execute_result"
    },
    {
     "data": {
      "image/png": "[encoded data removed]",
      "text/plain": [
       "<Figure size 432x288 with 1 Axes>"
      ]
     },
     "metadata": {
      "needs_background": "light"
     },
     "output_type": "display_data"
    }
   ],
   "source": [
    "# plotting multi-dimensional dataframe\n",
    "df.plot()"
   ]
  },
  {
   "cell_type": "code",
   "execution_count": 14,
   "metadata": {},
   "outputs": [
    {
     "data": {
      "text/plain": [
       "d    4.0\n",
       "e    NaN\n",
       "f    7.0\n",
       "g    8.0\n",
       "dtype: float64"
      ]
     },
     "execution_count": 14,
     "metadata": {},
     "output_type": "execute_result"
    }
   ],
   "source": [
    "# subsetting the dataframe\n",
    "a[a.index > \"c\"]"
   ]
  },
  {
   "cell_type": "code",
   "execution_count": 15,
   "metadata": {},
   "outputs": [
    {
     "data": {
      "text/plain": [
       "a    1.0\n",
       "b    2.0\n",
       "c    3.0\n",
       "d    4.0\n",
       "f    7.0\n",
       "g    8.0\n",
       "dtype: float64"
      ]
     },
     "execution_count": 15,
     "metadata": {},
     "output_type": "execute_result"
    }
   ],
   "source": [
    "a[a.isnull()==False]"
   ]
  },
  {
   "cell_type": "code",
   "execution_count": 16,
   "metadata": {},
   "outputs": [
    {
     "data": {
      "text/html": [
       "<div>\n",
       "<style scoped>\n",
       "    .dataframe tbody tr th:only-of-type {\n",
       "        vertical-align: middle;\n",
       "    }\n",
       "\n",
       "    .dataframe tbody tr th {\n",
       "        vertical-align: top;\n",
       "    }\n",
       "\n",
       "    .dataframe thead th {\n",
       "        text-align: right;\n",
       "    }\n",
       "</style>\n",
       "<table border=\"1\" class=\"dataframe\">\n",
       "  <thead>\n",
       "    <tr style=\"text-align: right;\">\n",
       "      <th></th>\n",
       "      <th>phone</th>\n",
       "      <th>age</th>\n",
       "    </tr>\n",
       "  </thead>\n",
       "  <tbody>\n",
       "    <tr>\n",
       "      <th>Melanie</th>\n",
       "      <td>555-1212</td>\n",
       "      <td>17</td>\n",
       "    </tr>\n",
       "    <tr>\n",
       "      <th>Bob</th>\n",
       "      <td>555-1234</td>\n",
       "      <td>17</td>\n",
       "    </tr>\n",
       "    <tr>\n",
       "      <th>Vidhya</th>\n",
       "      <td>555-1111</td>\n",
       "      <td>18</td>\n",
       "    </tr>\n",
       "    <tr>\n",
       "      <th>Ming</th>\n",
       "      <td>555-2222</td>\n",
       "      <td>18</td>\n",
       "    </tr>\n",
       "  </tbody>\n",
       "</table>\n",
       "</div>"
      ],
      "text/plain": [
       "            phone  age\n",
       "Melanie  555-1212   17\n",
       "Bob      555-1234   17\n",
       "Vidhya   555-1111   18\n",
       "Ming     555-2222   18"
      ]
     },
     "execution_count": 16,
     "metadata": {},
     "output_type": "execute_result"
    }
   ],
   "source": [
    "students.head()"
   ]
  },
  {
   "cell_type": "code",
   "execution_count": 17,
   "metadata": {},
   "outputs": [
    {
     "name": "stdout",
     "output_type": "stream",
     "text": [
      "Melanie    17\n",
      "Bob        17\n",
      "Vidhya     18\n",
      "Ming       18\n",
      "Name: age, dtype: int64\n",
      "Melanie    555-1212\n",
      "Bob        555-1234\n",
      "Vidhya     555-1111\n",
      "Ming       555-2222\n",
      "Name: phone, dtype: object\n"
     ]
    }
   ],
   "source": [
    "print(students[\"age\"])\n",
    "print(students.phone)"
   ]
  },
  {
   "cell_type": "code",
   "execution_count": 18,
   "metadata": {},
   "outputs": [
    {
     "name": "stdout",
     "output_type": "stream",
     "text": [
      "Ming    18\n",
      "Name: age, dtype: int64\n",
      "18\n"
     ]
    }
   ],
   "source": [
    "df1 = print(students[students.index == \"Ming\"][\"age\"])\n",
    "df2 = print(students.loc[\"Ming\",\"age\"])"
   ]
  },
  {
   "cell_type": "code",
   "execution_count": 19,
   "metadata": {},
   "outputs": [
    {
     "name": "stdout",
     "output_type": "stream",
     "text": [
      "phone    555-1234\n",
      "age            17\n",
      "Name: Bob, dtype: object\n",
      "17\n"
     ]
    }
   ],
   "source": [
    "# select by position\n",
    "print(students.iloc[1,:])\n",
    "print(students.iloc[1,1])"
   ]
  },
  {
   "cell_type": "code",
   "execution_count": 20,
   "metadata": {},
   "outputs": [
    {
     "name": "stdout",
     "output_type": "stream",
     "text": [
      "17.5\n",
      "18\n"
     ]
    }
   ],
   "source": [
    "# summarize your data\n",
    "print(students.age.mean())\n",
    "print(students.age.max())"
   ]
  },
  {
   "cell_type": "code",
   "execution_count": 21,
   "metadata": {},
   "outputs": [
    {
     "name": "stdout",
     "output_type": "stream",
     "text": [
      "            phone  age  grade\n",
      "Melanie  555-1212   17     12\n",
      "Bob      555-1234   17    100\n",
      "Vidhya   555-1111   18     34\n",
      "Ming     555-2222   18     55\n",
      "        phone  age  grade\n",
      "Bob  555-1234   17    100\n"
     ]
    }
   ],
   "source": [
    "# adding extra columns in dataframe\n",
    "students[\"grade\"] = [12,100,34,55]\n",
    "print(students)\n",
    "print(students[students.grade==students.grade.max()])"
   ]
  },
  {
   "cell_type": "code",
   "execution_count": 22,
   "metadata": {},
   "outputs": [
    {
     "data": {
      "text/plain": [
       "age\n",
       "17    56.0\n",
       "18    44.5\n",
       "Name: grade, dtype: float64"
      ]
     },
     "execution_count": 22,
     "metadata": {},
     "output_type": "execute_result"
    }
   ],
   "source": [
    "# grouping and aggregating\n",
    "students.groupby(\"age\").grade.mean()"
   ]
  },
  {
   "cell_type": "code",
   "execution_count": 23,
   "metadata": {},
   "outputs": [
    {
     "name": "stdout",
     "output_type": "stream",
     "text": [
      "5\n",
      "Melanie    18\n",
      "Bob        18\n",
      "Vidhya     19\n",
      "Ming       19\n",
      "Name: age, dtype: int64\n",
      "Melanie    18\n",
      "Bob        18\n",
      "Vidhya     19\n",
      "Ming       19\n",
      "Name: age, dtype: int64\n"
     ]
    }
   ],
   "source": [
    "# Using lambda function\n",
    "f=lambda x:x+1\n",
    "print(f(4))\n",
    "print(students.age.apply(f))\n",
    "print(students.age.apply(lambda x:x+1))"
   ]
  },
  {
   "cell_type": "code",
   "execution_count": 24,
   "metadata": {},
   "outputs": [
    {
     "name": "stdout",
     "output_type": "stream",
     "text": [
      "17.5\n",
      "4\n",
      "            age     grade\n",
      "age    1.000000 -0.176928\n",
      "grade -0.176928  1.000000\n",
      "            phone age grade\n",
      "Melanie  555-1212  17    12\n",
      "Bob      555-1234  17   100\n",
      "Vidhya   555-1234  18   100\n",
      "Ming     555-2222  18   100\n"
     ]
    }
   ],
   "source": [
    "# summarizing \n",
    "print(students.age.mean())\n",
    "print(students.age.count())\n",
    "print(students.corr())\n",
    "print(students.cummax())"
   ]
  },
  {
   "cell_type": "code",
   "execution_count": 25,
   "metadata": {},
   "outputs": [
    {
     "name": "stdout",
     "output_type": "stream",
     "text": [
      "DatetimeIndex(['2016-07-31 10:15:00', '2016-08-31 10:15:00',\n",
      "               '2016-09-30 10:15:00', '2016-10-31 10:15:00',\n",
      "               '2016-11-30 10:15:00', '2016-12-31 10:15:00',\n",
      "               '2017-01-31 10:15:00', '2017-02-28 10:15:00',\n",
      "               '2017-03-31 10:15:00', '2017-04-30 10:15:00'],\n",
      "              dtype='datetime64[ns]', freq='M')\n",
      "<class 'pandas._libs.tslibs.timestamps.Timestamp'>\n"
     ]
    }
   ],
   "source": [
    "# working with date and time\n",
    "rng = pd.date_range(\"2016 Jul 15 10:15\", periods=10,freq=\"M\")\n",
    "print(rng)\n",
    "print(type(rng[0]))"
   ]
  },
  {
   "cell_type": "code",
   "execution_count": 26,
   "metadata": {},
   "outputs": [
    {
     "data": {
      "text/plain": [
       "DatetimeIndex(['2016-01-07 00:00:00', '2016-01-07 08:00:00',\n",
       "               '2016-01-07 16:00:00', '2016-01-08 00:00:00',\n",
       "               '2016-01-08 08:00:00', '2016-01-08 16:00:00',\n",
       "               '2016-01-09 00:00:00', '2016-01-09 08:00:00',\n",
       "               '2016-01-09 16:00:00', '2016-01-10 00:00:00',\n",
       "               ...\n",
       "               '2016-07-26 00:00:00', '2016-07-26 08:00:00',\n",
       "               '2016-07-26 16:00:00', '2016-07-27 00:00:00',\n",
       "               '2016-07-27 08:00:00', '2016-07-27 16:00:00',\n",
       "               '2016-07-28 00:00:00', '2016-07-28 08:00:00',\n",
       "               '2016-07-28 16:00:00', '2016-07-29 00:00:00'],\n",
       "              dtype='datetime64[ns]', length=613, freq='8H')"
      ]
     },
     "execution_count": 26,
     "metadata": {},
     "output_type": "execute_result"
    }
   ],
   "source": [
    "rng1 = pd.date_range(start= \"1/7/2016\",end=\"2016 July 29\", freq=\"8H\")\n",
    "rng1"
   ]
  },
  {
   "cell_type": "code",
   "execution_count": 27,
   "metadata": {},
   "outputs": [
    {
     "data": {
      "text/plain": [
       "Timestamp('2016-07-12 00:00:00')"
      ]
     },
     "execution_count": 27,
     "metadata": {},
     "output_type": "execute_result"
    }
   ],
   "source": [
    "pd.Timestamp(\"2016-07-12\")"
   ]
  },
  {
   "cell_type": "code",
   "execution_count": 28,
   "metadata": {},
   "outputs": [
    {
     "data": {
      "text/plain": [
       "Timestamp('2016-07-12 11:55:00')"
      ]
     },
     "execution_count": 28,
     "metadata": {},
     "output_type": "execute_result"
    }
   ],
   "source": [
    "pd.Timestamp(\"2016-07-12 11:55\")"
   ]
  },
  {
   "cell_type": "code",
   "execution_count": 29,
   "metadata": {},
   "outputs": [
    {
     "data": {
      "text/plain": [
       "Timedelta('1 days 00:00:00.000001')"
      ]
     },
     "execution_count": 29,
     "metadata": {},
     "output_type": "execute_result"
    }
   ],
   "source": [
    "pd.Timedelta(\"1 day 1us\")"
   ]
  },
  {
   "cell_type": "code",
   "execution_count": 30,
   "metadata": {},
   "outputs": [
    {
     "data": {
      "text/plain": [
       "Timestamp('2019-11-05 10:15:00')"
      ]
     },
     "execution_count": 30,
     "metadata": {},
     "output_type": "execute_result"
    }
   ],
   "source": [
    "pd.Timestamp(\"2019-11-03 10:15\")+pd.Timedelta(\"2 days\")"
   ]
  },
  {
   "cell_type": "code",
   "execution_count": 31,
   "metadata": {},
   "outputs": [
    {
     "name": "stdout",
     "output_type": "stream",
     "text": [
      "DatetimeIndex(['2016-01-01', '2016-01-02', '2016-01-03', '2016-01-04',\n",
      "               '2016-01-05', '2016-01-06', '2016-01-07', '2016-01-08',\n",
      "               '2016-01-09', '2016-01-10', '2016-01-11', '2016-01-12',\n",
      "               '2016-01-13', '2016-01-14', '2016-01-15'],\n",
      "              dtype='datetime64[ns]', freq='D')\n",
      "DatetimeIndex(['2016-01-02', '2016-01-03', '2016-01-04', '2016-01-05',\n",
      "               '2016-01-06', '2016-01-07', '2016-01-08', '2016-01-09',\n",
      "               '2016-01-10', '2016-01-11', '2016-01-12', '2016-01-13',\n",
      "               '2016-01-14', '2016-01-15', '2016-01-16'],\n",
      "              dtype='datetime64[ns]', freq='D')\n"
     ]
    }
   ],
   "source": [
    "rng = pd.date_range(start = \"2016-01-01\", end=\"2016-01-15\", freq=\"D\")\n",
    "print(rng)\n",
    "rngDelay = rng + pd.Timedelta(\"1 day\")\n",
    "print(rngDelay)"
   ]
  },
  {
   "cell_type": "code",
   "execution_count": 32,
   "metadata": {},
   "outputs": [
    {
     "name": "stdout",
     "output_type": "stream",
     "text": [
      "2016-07-01 00:00:00\n",
      "2016-07-31 23:59:59.999999999\n",
      "False\n",
      "True\n"
     ]
    }
   ],
   "source": [
    "p = pd.Period(\"7/2016\")\n",
    "p\n",
    "print(p.start_time)\n",
    "print(p.end_time)\n",
    "t = pd.Timestamp(\"2016-07-08\")\n",
    "print(t<p.start_time)\n",
    "print(t<p.end_time)"
   ]
  },
  {
   "cell_type": "code",
   "execution_count": 33,
   "metadata": {},
   "outputs": [
    {
     "name": "stdout",
     "output_type": "stream",
     "text": [
      "PeriodIndex(['2016-01-01 15:00', '2016-01-01 16:00', '2016-01-01 17:00',\n",
      "             '2016-01-01 18:00', '2016-01-01 19:00', '2016-01-01 20:00',\n",
      "             '2016-01-01 21:00', '2016-01-01 22:00', '2016-01-01 23:00',\n",
      "             '2016-01-02 00:00'],\n",
      "            dtype='period[H]', freq='H')\n",
      "PeriodIndex(['2016-01-01 12:15', '2016-01-01 13:15', '2016-01-01 14:15',\n",
      "             '2016-01-01 15:15', '2016-01-01 16:15', '2016-01-01 17:15',\n",
      "             '2016-01-01 18:15', '2016-01-01 19:15', '2016-01-01 20:15',\n",
      "             '2016-01-01 21:15', '2016-01-01 22:15', '2016-01-01 23:15'],\n",
      "            dtype='period[60T]', freq='60T')\n"
     ]
    }
   ],
   "source": [
    "rng2 = pd.period_range(start=\"2016-01-01 15:15\", end=\"2016-01-02\", freq=\"H\")\n",
    "print(rng2)\n",
    "rng2_1 = pd.period_range(start=\"2016-01-01 12:15\", end=\"2016-01-02\", freq=\"60T\")\n",
    "print(rng2_1)"
   ]
  },
  {
   "cell_type": "code",
   "execution_count": 34,
   "metadata": {},
   "outputs": [
    {
     "data": {
      "text/plain": [
       "2016-07-01 11:15     0\n",
       "2016-07-01 12:15     1\n",
       "2016-07-01 13:15     2\n",
       "2016-07-01 14:15     3\n",
       "2016-07-01 15:15     4\n",
       "2016-07-01 16:15     5\n",
       "2016-07-01 17:15     6\n",
       "2016-07-01 18:15     7\n",
       "2016-07-01 19:15     8\n",
       "2016-07-01 20:15     9\n",
       "2016-07-01 21:15    10\n",
       "2016-07-01 22:15    11\n",
       "2016-07-01 23:15    12\n",
       "2016-07-02 00:15    13\n",
       "2016-07-02 01:15    14\n",
       "2016-07-02 02:15    15\n",
       "2016-07-02 03:15    16\n",
       "2016-07-02 04:15    17\n",
       "2016-07-02 05:15    18\n",
       "2016-07-02 06:15    19\n",
       "2016-07-02 07:15    20\n",
       "2016-07-02 08:15    21\n",
       "2016-07-02 09:15    22\n",
       "2016-07-02 10:15    23\n",
       "2016-07-02 11:15    24\n",
       "2016-07-02 12:15    25\n",
       "2016-07-02 13:15    26\n",
       "2016-07-02 14:15    27\n",
       "2016-07-02 15:15    28\n",
       "2016-07-02 16:15    29\n",
       "2016-07-02 17:15    30\n",
       "2016-07-02 18:15    31\n",
       "2016-07-02 19:15    32\n",
       "2016-07-02 20:15    33\n",
       "2016-07-02 21:15    34\n",
       "2016-07-02 22:15    35\n",
       "2016-07-02 23:15    36\n",
       "2016-07-03 00:15    37\n",
       "2016-07-03 01:15    38\n",
       "2016-07-03 02:15    39\n",
       "Freq: 60T, dtype: int64"
      ]
     },
     "execution_count": 34,
     "metadata": {},
     "output_type": "execute_result"
    }
   ],
   "source": [
    "num_periods = 40\n",
    "ts_pd = pd.Series(range(num_periods), pd.period_range(\"2016-07-01 11:15\",freq=\"60T\", periods=num_periods))\n",
    "ts_pd"
   ]
  },
  {
   "cell_type": "code",
   "execution_count": 35,
   "metadata": {},
   "outputs": [
    {
     "name": "stdout",
     "output_type": "stream",
     "text": [
      "DatetimeIndex(['2016-01-19', '2016-01-20', '2016-01-21', '2016-01-22',\n",
      "               '2016-01-23', '2016-01-24', '2016-01-25', '2016-01-26',\n",
      "               '2016-01-27', '2016-01-28'],\n",
      "              dtype='datetime64[ns]', freq='D')\n",
      "None\n"
     ]
    }
   ],
   "source": [
    "# Time zone handling\n",
    "rng3 = pd.date_range(start=\"2016-01-19\",end=\"2016-01-28\", freq=\"d\")\n",
    "print(rng3)\n",
    "print(rng3.tz)"
   ]
  },
  {
   "cell_type": "code",
   "execution_count": 36,
   "metadata": {},
   "outputs": [
    {
     "name": "stdout",
     "output_type": "stream",
     "text": [
      "DatetimeIndex(['2016-01-19 12:15:00+08:00', '2016-01-20 12:15:00+08:00',\n",
      "               '2016-01-21 12:15:00+08:00', '2016-01-22 12:15:00+08:00',\n",
      "               '2016-01-23 12:15:00+08:00', '2016-01-24 12:15:00+08:00',\n",
      "               '2016-01-25 12:15:00+08:00', '2016-01-26 12:15:00+08:00',\n",
      "               '2016-01-27 12:15:00+08:00'],\n",
      "              dtype='datetime64[ns, Asia/Hong_Kong]', freq='D')\n",
      "Asia/Hong_Kong\n"
     ]
    }
   ],
   "source": [
    "rng3 = pd.date_range(start=\"2016-01-19 12:15\",end=\"2016-01-28\", freq=\"d\", tz=\"Asia/Hong_Kong\")\n",
    "print(rng3)\n",
    "print(rng3.tz)"
   ]
  },
  {
   "cell_type": "code",
   "execution_count": 37,
   "metadata": {},
   "outputs": [
    {
     "data": {
      "text/plain": [
       "DatetimeIndex(['2016-01-19 04:15:00+00:00', '2016-01-20 04:15:00+00:00',\n",
       "               '2016-01-21 04:15:00+00:00', '2016-01-22 04:15:00+00:00',\n",
       "               '2016-01-23 04:15:00+00:00', '2016-01-24 04:15:00+00:00',\n",
       "               '2016-01-25 04:15:00+00:00', '2016-01-26 04:15:00+00:00',\n",
       "               '2016-01-27 04:15:00+00:00'],\n",
       "              dtype='datetime64[ns, Europe/London]', freq='D')"
      ]
     },
     "execution_count": 37,
     "metadata": {},
     "output_type": "execute_result"
    }
   ],
   "source": [
    "rng3.tz_convert(\"Europe/London\")"
   ]
  },
  {
   "cell_type": "code",
   "execution_count": 43,
   "metadata": {},
   "outputs": [
    {
     "name": "stdout",
     "output_type": "stream",
     "text": [
      " 1950    1  -0.60310E-01\n",
      "\n",
      " 1950    2   0.62681E+00\n",
      "\n",
      " 1950    3  -0.81275E-02\n",
      "\n",
      " 1950    4   0.55510E+00\n",
      "\n",
      " 1950    5   0.71577E-01\n",
      "\n"
     ]
    }
   ],
   "source": [
    "with open (\"SciPyTimeSeries/SciPyTimeSeries/data/ao_monthly.txt\") as f:\n",
    "    for x in range(5):\n",
    "        print(next(f))"
   ]
  },
  {
   "cell_type": "code",
   "execution_count": null,
   "metadata": {},
   "outputs": [],
   "source": []
  },
  {
   "cell_type": "code",
   "execution_count": null,
   "metadata": {},
   "outputs": [],
   "source": []
  }
 ],
 "metadata": {
  "kernelspec": {
   "display_name": "Python 3",
   "language": "python",
   "name": "python3"
  },
  "language_info": {
   "codemirror_mode": {
    "name": "ipython",
    "version": 3
   },
   "file_extension": ".py",
   "mimetype": "text/x-python",
   "name": "python",
   "nbconvert_exporter": "python",
   "pygments_lexer": "ipython3",
   "version": "3.7.5"
  }
 },
 "nbformat": 4,
 "nbformat_minor": 2
}
